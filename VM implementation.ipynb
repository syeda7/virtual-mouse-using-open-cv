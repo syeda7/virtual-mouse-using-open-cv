{
 "cells": [
  {
   "cell_type": "code",
   "execution_count": 4,
   "id": "5f341b28",
   "metadata": {},
   "outputs": [
    {
     "data": {
      "text/plain": [
       "'for green\\nlowerBound=np.array([40,80,40])\\nupperBound=np.array([65,255,255])\\n\\nskin color\\nlowerBound=np.array([0,80,40])\\nupperBound=np.array([65,255,255])\\n\\nyelloish\\nlowerBound=np.array([20,80,100])\\nupperBound=np.array([40,200,300])\\n\\nfor red\\nlowerBound=np.array([170,120,150])\\nupperBound=np.array([190,255,255])\\n\\nfor blue\\nlowerBound=np.array([110,150,100])\\nupperBound=np.array([120,200,200])'"
      ]
     },
     "execution_count": 4,
     "metadata": {},
     "output_type": "execute_result"
    }
   ],
   "source": [
    "import cv2 #IMPORTANT LIBRARY\n",
    "import numpy as np\n",
    "\n",
    "#lowerBound=np.array([33,80,40])\n",
    "#upperBound=np.array([65,255,255])\n",
    "\n",
    "'''for green\n",
    "lowerBound=np.array([40,80,40])\n",
    "upperBound=np.array([65,255,255])\n",
    "\n",
    "skin color\n",
    "lowerBound=np.array([0,80,40])\n",
    "upperBound=np.array([65,255,255])\n",
    "\n",
    "yelloish\n",
    "lowerBound=np.array([20,80,100])\n",
    "upperBound=np.array([40,200,300])\n",
    "\n",
    "for red\n",
    "lowerBound=np.array([170,120,150])\n",
    "upperBound=np.array([190,255,255])\n",
    "\n",
    "for blue\n",
    "lowerBound=np.array([110,150,100])\n",
    "upperBound=np.array([120,200,200])'''\n"
   ]
  },
  {
   "cell_type": "code",
   "execution_count": 5,
   "id": "a1fb2080",
   "metadata": {},
   "outputs": [],
   "source": [
    "cam= cv2.VideoCapture(0) #FOR VIDEO CAPTURE\n",
    "kernelOpen=np.ones((5,5))\n",
    "kernelClose=np.ones((20,20))\n",
    "\n",
    "#font=cvInitFont(cv.FONT_HERSHEY_SIMPLEX,2,0.5,0,3,1)\n",
    "font = cv2.FONT_HERSHEY_SIMPLEX,1,(255,255,255)"
   ]
  },
  {
   "cell_type": "code",
   "execution_count": 3,
   "id": "83eda66a",
   "metadata": {},
   "outputs": [],
   "source": [
    "import cv2\n",
    "import numpy as np\n",
    "from pynput.mouse import Button, Controller\n",
    "import tkinter as tk\n",
    "#import wx\n",
    "mouse=Controller()\n",
    "#Global variables setup\n",
    "#now that we already have all the libraries lets setup all the variables & onjects\n",
    "\n",
    "#app=wx.App(false)\n",
    "#(sx,sy)=wx.GetDisplaySize()\n",
    "\n",
    "root = tk.Tk()\n",
    "sx = root.winfo_screenwidth()\n",
    "sy = root.winfo_screenheight()\n",
    "(camx,camy)=(320,240)\n",
    "\n",
    "lowerBound=np.array([33,80,40])\n",
    "upperBound=np.array([102,255,255])\n",
    "\n",
    "cam= cv2.VideoCapture(0)\n",
    "kernelOpen=np.ones((5,5))\n",
    "kernelClose=np.ones((20,20))\n",
    "pinchFlag=0"
   ]
  },
  {
   "cell_type": "code",
   "execution_count": null,
   "id": "51a75bfc",
   "metadata": {},
   "outputs": [],
   "source": [
    "while True:\n",
    "    ret,img=cam.read()\n",
    "    img=cv2.resize(img,(200,150))\n",
    "    \n",
    "    #covert BGR to HS\n",
    "    imgHSV = cv2.cvtColor(img,cv2.COLOR_BGR2HSV)\n",
    "    #CREATE THE MASK\n",
    "    mask=cv2.inRange(imgHSV,lowerBound,upperBound)\n",
    "    #morphology\n",
    "    maskOpen=cv2.morphologyEx(mask,cv2.MORPH_OPEN,kernelOpen)\n",
    "    maskClose=cv2.morphologyEx(maskOpen,cv2.MORPH_CLOSE,kernelClose)\n",
    "    \n",
    "    maskFinal=maskClose\n",
    "    conts,h=cv2.findContours(maskFinal.copy(),cv2.RETR_EXTERNAL,cv2.CHAIN_APPROX_NONE)\n",
    "    \n",
    "    if(len(conts)==2):\n",
    "        if(pinchFlag==1):\n",
    "            pinchFlag=0\n",
    "            mouse.release(button.left)\n",
    "            x1,y1,w1,h1=cv2.boundingRect(const[0])\n",
    "            x2,y2,w2,h2=cv2.boundingRect(const[1])\n",
    "            cv2.rectangle(img,(x1,y1),(x1+w1,y1+h1),(255,0,0),2)\n",
    "            cv2.rectangle(img,(x2,y2),(x2+w2,y2+h2),(255,0,0),2)\n",
    "            cx1=x1+w1//2\n",
    "            cy1=y1+h1//2\n",
    "            cx2=x2+w2//2\n",
    "            cy2=y2+h2//2\n",
    "            cx=(cx1+cx2)//2\n",
    "            cy=(cy1+cy2)//2\n",
    "            cv2.line(img, (cx1,cy1),(cx2,cy2),(255,0,0),2)\n",
    "            cv2.circle(img, (cx,cy),2,(0,0,255),2)\n",
    "            mouseLoc=int(sx-(cx*sx/camx)), int(cy*sy/camy)\n",
    "            \n",
    "    \n",
    "    \n",
    "    "
   ]
  },
  {
   "cell_type": "code",
   "execution_count": null,
   "id": "0afde52d",
   "metadata": {},
   "outputs": [],
   "source": []
  }
 ],
 "metadata": {
  "kernelspec": {
   "display_name": "Python 3 (ipykernel)",
   "language": "python",
   "name": "python3"
  },
  "language_info": {
   "codemirror_mode": {
    "name": "ipython",
    "version": 3
   },
   "file_extension": ".py",
   "mimetype": "text/x-python",
   "name": "python",
   "nbconvert_exporter": "python",
   "pygments_lexer": "ipython3",
   "version": "3.9.7"
  }
 },
 "nbformat": 4,
 "nbformat_minor": 5
}
